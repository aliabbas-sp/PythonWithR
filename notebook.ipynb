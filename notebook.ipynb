{
 "cells": [
  {
   "cell_type": "code",
   "execution_count": 555,
   "metadata": {
    "collapsed": true,
    "pycharm": {
     "name": "#%%\n"
    }
   },
   "outputs": [
    {
     "data": {
      "text/plain": "'<table class=\"table table-striped table-hover\"><thead><th scope=\"col\">Index</th><th scope=\"col\">mpg</th><th scope=\"col\">cyl</th><th scope=\"col\">disp</th><th scope=\"col\">hp</th><th scope=\"col\">drat</th><th scope=\"col\">wt</th><th scope=\"col\">qsec</th><th scope=\"col\">vs</th><th scope=\"col\">am</th><th scope=\"col\">gear</th><th scope=\"col\">carb</th></thead><tr><th scope = \"row\">Mazda RX4</td><td>21.0</td><td>6.0</td><td>160.0</td><td>110.0</td><td>3.9</td><td>2.62</td><td>16.46</td><td>0.0</td><td>1.0</td><td>4.0</td><td>4.0</td></tr><tr><th scope = \"row\">Mazda RX4 Wag</td><td>21.0</td><td>6.0</td><td>160.0</td><td>110.0</td><td>3.9</td><td>2.875</td><td>17.02</td><td>0.0</td><td>1.0</td><td>4.0</td><td>4.0</td></tr><tr><th scope = \"row\">Datsun 710</td><td>22.8</td><td>4.0</td><td>108.0</td><td>93.0</td><td>3.85</td><td>2.32</td><td>18.61</td><td>1.0</td><td>1.0</td><td>4.0</td><td>1.0</td></tr><tr><th scope = \"row\">Hornet 4 Drive</td><td>21.4</td><td>6.0</td><td>258.0</td><td>110.0</td><td>3.08</td><td>3.215</td><td>19.44</td><td>1.0</td><td>0.0</td><td>3.0</td><td>1.0</td></tr><tr><th scope = \"row\">Hornet Sportabout</td><td>18.7</td><td>8.0</td><td>360.0</td><td>175.0</td><td>3.15</td><td>3.44</td><td>17.02</td><td>0.0</td><td>0.0</td><td>3.0</td><td>2.0</td></tr><tr><th scope = \"row\">Valiant</td><td>18.1</td><td>6.0</td><td>225.0</td><td>105.0</td><td>2.76</td><td>3.46</td><td>20.22</td><td>1.0</td><td>0.0</td><td>3.0</td><td>1.0</td></tr><tr><th scope = \"row\">Duster 360</td><td>14.3</td><td>8.0</td><td>360.0</td><td>245.0</td><td>3.21</td><td>3.57</td><td>15.84</td><td>0.0</td><td>0.0</td><td>3.0</td><td>4.0</td></tr><tr><th scope = \"row\">Merc 240D</td><td>24.4</td><td>4.0</td><td>146.7</td><td>62.0</td><td>3.69</td><td>3.19</td><td>20.0</td><td>1.0</td><td>0.0</td><td>4.0</td><td>2.0</td></tr><tr><th scope = \"row\">Merc 230</td><td>22.8</td><td>4.0</td><td>140.8</td><td>95.0</td><td>3.92</td><td>3.15</td><td>22.9</td><td>1.0</td><td>0.0</td><td>4.0</td><td>2.0</td></tr><tr><th scope = \"row\">Merc 280</td><td>19.2</td><td>6.0</td><td>167.6</td><td>123.0</td><td>3.92</td><td>3.44</td><td>18.3</td><td>1.0</td><td>0.0</td><td>4.0</td><td>4.0</td></tr><tr><th scope = \"row\">Merc 280C</td><td>17.8</td><td>6.0</td><td>167.6</td><td>123.0</td><td>3.92</td><td>3.44</td><td>18.9</td><td>1.0</td><td>0.0</td><td>4.0</td><td>4.0</td></tr><tr><th scope = \"row\">Merc 450SE</td><td>16.4</td><td>8.0</td><td>275.8</td><td>180.0</td><td>3.07</td><td>4.07</td><td>17.4</td><td>0.0</td><td>0.0</td><td>3.0</td><td>3.0</td></tr><tr><th scope = \"row\">Merc 450SL</td><td>17.3</td><td>8.0</td><td>275.8</td><td>180.0</td><td>3.07</td><td>3.73</td><td>17.6</td><td>0.0</td><td>0.0</td><td>3.0</td><td>3.0</td></tr><tr><th scope = \"row\">Merc 450SLC</td><td>15.2</td><td>8.0</td><td>275.8</td><td>180.0</td><td>3.07</td><td>3.78</td><td>18.0</td><td>0.0</td><td>0.0</td><td>3.0</td><td>3.0</td></tr><tr><th scope = \"row\">Cadillac Fleetwood</td><td>10.4</td><td>8.0</td><td>472.0</td><td>205.0</td><td>2.93</td><td>5.25</td><td>17.98</td><td>0.0</td><td>0.0</td><td>3.0</td><td>4.0</td></tr><tr><th scope = \"row\">Lincoln Continental</td><td>10.4</td><td>8.0</td><td>460.0</td><td>215.0</td><td>3.0</td><td>5.424</td><td>17.82</td><td>0.0</td><td>0.0</td><td>3.0</td><td>4.0</td></tr><tr><th scope = \"row\">Chrysler Imperial</td><td>14.7</td><td>8.0</td><td>440.0</td><td>230.0</td><td>3.23</td><td>5.345</td><td>17.42</td><td>0.0</td><td>0.0</td><td>3.0</td><td>4.0</td></tr><tr><th scope = \"row\">Fiat 128</td><td>32.4</td><td>4.0</td><td>78.7</td><td>66.0</td><td>4.08</td><td>2.2</td><td>19.47</td><td>1.0</td><td>1.0</td><td>4.0</td><td>1.0</td></tr><tr><th scope = \"row\">Honda Civic</td><td>30.4</td><td>4.0</td><td>75.7</td><td>52.0</td><td>4.93</td><td>1.615</td><td>18.52</td><td>1.0</td><td>1.0</td><td>4.0</td><td>2.0</td></tr><tr><th scope = \"row\">Toyota Corolla</td><td>33.9</td><td>4.0</td><td>71.1</td><td>65.0</td><td>4.22</td><td>1.835</td><td>19.9</td><td>1.0</td><td>1.0</td><td>4.0</td><td>1.0</td></tr><tr><th scope = \"row\">Toyota Corona</td><td>21.5</td><td>4.0</td><td>120.1</td><td>97.0</td><td>3.7</td><td>2.465</td><td>20.01</td><td>1.0</td><td>0.0</td><td>3.0</td><td>1.0</td></tr><tr><th scope = \"row\">Dodge Challenger</td><td>15.5</td><td>8.0</td><td>318.0</td><td>150.0</td><td>2.76</td><td>3.52</td><td>16.87</td><td>0.0</td><td>0.0</td><td>3.0</td><td>2.0</td></tr><tr><th scope = \"row\">AMC Javelin</td><td>15.2</td><td>8.0</td><td>304.0</td><td>150.0</td><td>3.15</td><td>3.435</td><td>17.3</td><td>0.0</td><td>0.0</td><td>3.0</td><td>2.0</td></tr><tr><th scope = \"row\">Camaro Z28</td><td>13.3</td><td>8.0</td><td>350.0</td><td>245.0</td><td>3.73</td><td>3.84</td><td>15.41</td><td>0.0</td><td>0.0</td><td>3.0</td><td>4.0</td></tr><tr><th scope = \"row\">Pontiac Firebird</td><td>19.2</td><td>8.0</td><td>400.0</td><td>175.0</td><td>3.08</td><td>3.845</td><td>17.05</td><td>0.0</td><td>0.0</td><td>3.0</td><td>2.0</td></tr><tr><th scope = \"row\">Fiat X1-9</td><td>27.3</td><td>4.0</td><td>79.0</td><td>66.0</td><td>4.08</td><td>1.935</td><td>18.9</td><td>1.0</td><td>1.0</td><td>4.0</td><td>1.0</td></tr><tr><th scope = \"row\">Porsche 914-2</td><td>26.0</td><td>4.0</td><td>120.3</td><td>91.0</td><td>4.43</td><td>2.14</td><td>16.7</td><td>0.0</td><td>1.0</td><td>5.0</td><td>2.0</td></tr><tr><th scope = \"row\">Lotus Europa</td><td>30.4</td><td>4.0</td><td>95.1</td><td>113.0</td><td>3.77</td><td>1.513</td><td>16.9</td><td>1.0</td><td>1.0</td><td>5.0</td><td>2.0</td></tr><tr><th scope = \"row\">Ford Pantera L</td><td>15.8</td><td>8.0</td><td>351.0</td><td>264.0</td><td>4.22</td><td>3.17</td><td>14.5</td><td>0.0</td><td>1.0</td><td>5.0</td><td>4.0</td></tr><tr><th scope = \"row\">Ferrari Dino</td><td>19.7</td><td>6.0</td><td>145.0</td><td>175.0</td><td>3.62</td><td>2.77</td><td>15.5</td><td>0.0</td><td>1.0</td><td>5.0</td><td>6.0</td></tr><tr><th scope = \"row\">Maserati Bora</td><td>15.0</td><td>8.0</td><td>301.0</td><td>335.0</td><td>3.54</td><td>3.57</td><td>14.6</td><td>0.0</td><td>1.0</td><td>5.0</td><td>8.0</td></tr><tr><th scope = \"row\">Volvo 142E</td><td>21.4</td><td>4.0</td><td>121.0</td><td>109.0</td><td>4.11</td><td>2.78</td><td>18.6</td><td>1.0</td><td>1.0</td><td>4.0</td><td>2.0</td></tr></table>'"
     },
     "execution_count": 555,
     "metadata": {},
     "output_type": "execute_result"
    }
   ],
   "source": [
    "from rpy2.robjects import r\n",
    "from runr.convert import rpy2_to_pandas\n",
    "import pandas as pd\n",
    "script_result = r(\"mtcars\")\n",
    "data = pd.DataFrame(rpy2_to_pandas(script_result))\n",
    "\n",
    "if data.columns[0] == 0:\n",
    "    data = data.rename(columns={data.columns[0]: \"UnnamedColumn\"})\n",
    "\n",
    "data.insert(0, 'Index', data.index)\n",
    "index = list(data['Index'])\n",
    "col_names = data.columns[:].tolist()\n",
    "\n",
    "html_table = f\"<table class=\\\"table table-striped table-hover\\\">\"\n",
    "html_table +=f\"<thead>\"\n",
    "for column in col_names:\n",
    "    html_table += f\"<th scope=\\\"col\\\">{column}</th>\"\n",
    "html_table += f\"</thead>\"\n",
    "col = 0\n",
    "line = 0\n",
    "for row in index:\n",
    "    html_table += \"<tr>\"\n",
    "    for row_col in col_names:\n",
    "        if row_col == 'Index':\n",
    "            html_table += f\"<th scope = \\\"row\\\">{data.loc[row,row_col]}</td>\"\n",
    "        else:\n",
    "            html_table += f\"<td>{data.loc[row,row_col]}</td>\"\n",
    "    html_table += \"</tr>\"\n",
    "html_table += \"</table>\"\n",
    "html_table"
   ]
  },
  {
   "cell_type": "code",
   "execution_count": 553,
   "outputs": [
    {
     "data": {
      "text/plain": "'<table class=\"table table-striped table-hover\"><thead><th scope=\"col\">Index</th><th scope=\"col\">UnnamedColumn</th></thead><tr><th scope = \"row\">0</td><td>21.0</td></tr><tr><th scope = \"row\">1</td><td>21.0</td></tr><tr><th scope = \"row\">2</td><td>22.8</td></tr><tr><th scope = \"row\">3</td><td>21.4</td></tr><tr><th scope = \"row\">4</td><td>18.7</td></tr><tr><th scope = \"row\">5</td><td>18.1</td></tr><tr><th scope = \"row\">6</td><td>14.3</td></tr><tr><th scope = \"row\">7</td><td>24.4</td></tr><tr><th scope = \"row\">8</td><td>22.8</td></tr><tr><th scope = \"row\">9</td><td>19.2</td></tr></table>'"
     },
     "execution_count": 553,
     "metadata": {},
     "output_type": "execute_result"
    }
   ],
   "source": [],
   "metadata": {
    "collapsed": false,
    "pycharm": {
     "name": "#%%\n"
    }
   }
  },
  {
   "cell_type": "code",
   "execution_count": null,
   "outputs": [],
   "source": [
    "\n",
    "    for row_col in col_names:\n",
    "        print(row_col + str(x))\n",
    "        if x == 0:\n",
    "            html_table += f\"<th scope = \\\"row\\\">{data.loc[x,row_col]}</td>\"\n",
    "            x = x+1\n",
    "        else:\n",
    "            html_table += f\"<td>{data.loc[x,row_col]}</td>\""
   ],
   "metadata": {
    "collapsed": false,
    "pycharm": {
     "name": "#%%\n"
    }
   }
  },
  {
   "cell_type": "code",
   "execution_count": 265,
   "outputs": [
    {
     "data": {
      "text/plain": "  Index__NEWLINE__ Column1__NEWLINE__\n0     0__NEWLINE__    21.0__NEWLINE__\n1     1__NEWLINE__    21.0__NEWLINE__\n2     2__NEWLINE__    22.8__NEWLINE__\n3     3__NEWLINE__    21.4__NEWLINE__\n4     4__NEWLINE__    18.7__NEWLINE__\n5     5__NEWLINE__    18.1__NEWLINE__\n6     6__NEWLINE__    14.3__NEWLINE__\n7     7__NEWLINE__    24.4__NEWLINE__\n8     8__NEWLINE__    22.8__NEWLINE__\n9     9__NEWLINE__    19.2__NEWLINE__",
      "text/html": "<div>\n<style scoped>\n    .dataframe tbody tr th:only-of-type {\n        vertical-align: middle;\n    }\n\n    .dataframe tbody tr th {\n        vertical-align: top;\n    }\n\n    .dataframe thead th {\n        text-align: right;\n    }\n</style>\n<table border=\"1\" class=\"dataframe\">\n  <thead>\n    <tr style=\"text-align: right;\">\n      <th></th>\n      <th>Index__NEWLINE__</th>\n      <th>Column1__NEWLINE__</th>\n    </tr>\n  </thead>\n  <tbody>\n    <tr>\n      <th>0</th>\n      <td>0__NEWLINE__</td>\n      <td>21.0__NEWLINE__</td>\n    </tr>\n    <tr>\n      <th>1</th>\n      <td>1__NEWLINE__</td>\n      <td>21.0__NEWLINE__</td>\n    </tr>\n    <tr>\n      <th>2</th>\n      <td>2__NEWLINE__</td>\n      <td>22.8__NEWLINE__</td>\n    </tr>\n    <tr>\n      <th>3</th>\n      <td>3__NEWLINE__</td>\n      <td>21.4__NEWLINE__</td>\n    </tr>\n    <tr>\n      <th>4</th>\n      <td>4__NEWLINE__</td>\n      <td>18.7__NEWLINE__</td>\n    </tr>\n    <tr>\n      <th>5</th>\n      <td>5__NEWLINE__</td>\n      <td>18.1__NEWLINE__</td>\n    </tr>\n    <tr>\n      <th>6</th>\n      <td>6__NEWLINE__</td>\n      <td>14.3__NEWLINE__</td>\n    </tr>\n    <tr>\n      <th>7</th>\n      <td>7__NEWLINE__</td>\n      <td>24.4__NEWLINE__</td>\n    </tr>\n    <tr>\n      <th>8</th>\n      <td>8__NEWLINE__</td>\n      <td>22.8__NEWLINE__</td>\n    </tr>\n    <tr>\n      <th>9</th>\n      <td>9__NEWLINE__</td>\n      <td>19.2__NEWLINE__</td>\n    </tr>\n  </tbody>\n</table>\n</div>"
     },
     "execution_count": 265,
     "metadata": {},
     "output_type": "execute_result"
    }
   ],
   "source": [
    "thead = 0\n",
    "html_table = f\"<table class=\\\"table table-striped table-hover\\\">\"\n",
    "for line in string_table.splitlines():\n",
    "    if thead == 0:\n",
    "        html_table += f\"<thead>\"\n",
    "        for n in line.split(\"__NEWLINE__\"):\n",
    "            html_table += f\"<th scope=\\\"col\\\">{n}</th>\"\n",
    "    else:\n",
    "        pass\n",
    "    item_index = 0\n",
    "    for n in line.split(\"__NEWLINE__\"):\n",
    "        if thead != 0:\n",
    "            if item_index == 0:\n",
    "                html_table += f\"<th scope = \\\"row\\\">{n}</td>\"\n",
    "            else:\n",
    "                html_table += f\"<td>{n}</td>\"\n",
    "        item_index += 1\n",
    "    if thead == 0:\n",
    "        html_table += f\"</thead>\"\n",
    "    else:\n",
    "        pass\n",
    "    html_table += \"<tr>\"\n",
    "    thead += 1\n",
    "html_table += \"</table>\""
   ],
   "metadata": {
    "collapsed": false,
    "pycharm": {
     "name": "#%%\n"
    }
   }
  },
  {
   "cell_type": "code",
   "execution_count": null,
   "outputs": [],
   "source": [],
   "metadata": {
    "collapsed": false,
    "pycharm": {
     "name": "#%%\n"
    }
   }
  },
  {
   "cell_type": "code",
   "execution_count": 266,
   "outputs": [
    {
     "data": {
      "text/plain": "  Index__NEWLINE__ Column1__NEWLINE__\n0     0__NEWLINE__    21.0__NEWLINE__\n1     1__NEWLINE__    21.0__NEWLINE__\n2     2__NEWLINE__    22.8__NEWLINE__\n3     3__NEWLINE__    21.4__NEWLINE__\n4     4__NEWLINE__    18.7__NEWLINE__\n5     5__NEWLINE__    18.1__NEWLINE__\n6     6__NEWLINE__    14.3__NEWLINE__\n7     7__NEWLINE__    24.4__NEWLINE__\n8     8__NEWLINE__    22.8__NEWLINE__\n9     9__NEWLINE__    19.2__NEWLINE__",
      "text/html": "<div>\n<style scoped>\n    .dataframe tbody tr th:only-of-type {\n        vertical-align: middle;\n    }\n\n    .dataframe tbody tr th {\n        vertical-align: top;\n    }\n\n    .dataframe thead th {\n        text-align: right;\n    }\n</style>\n<table border=\"1\" class=\"dataframe\">\n  <thead>\n    <tr style=\"text-align: right;\">\n      <th></th>\n      <th>Index__NEWLINE__</th>\n      <th>Column1__NEWLINE__</th>\n    </tr>\n  </thead>\n  <tbody>\n    <tr>\n      <th>0</th>\n      <td>0__NEWLINE__</td>\n      <td>21.0__NEWLINE__</td>\n    </tr>\n    <tr>\n      <th>1</th>\n      <td>1__NEWLINE__</td>\n      <td>21.0__NEWLINE__</td>\n    </tr>\n    <tr>\n      <th>2</th>\n      <td>2__NEWLINE__</td>\n      <td>22.8__NEWLINE__</td>\n    </tr>\n    <tr>\n      <th>3</th>\n      <td>3__NEWLINE__</td>\n      <td>21.4__NEWLINE__</td>\n    </tr>\n    <tr>\n      <th>4</th>\n      <td>4__NEWLINE__</td>\n      <td>18.7__NEWLINE__</td>\n    </tr>\n    <tr>\n      <th>5</th>\n      <td>5__NEWLINE__</td>\n      <td>18.1__NEWLINE__</td>\n    </tr>\n    <tr>\n      <th>6</th>\n      <td>6__NEWLINE__</td>\n      <td>14.3__NEWLINE__</td>\n    </tr>\n    <tr>\n      <th>7</th>\n      <td>7__NEWLINE__</td>\n      <td>24.4__NEWLINE__</td>\n    </tr>\n    <tr>\n      <th>8</th>\n      <td>8__NEWLINE__</td>\n      <td>22.8__NEWLINE__</td>\n    </tr>\n    <tr>\n      <th>9</th>\n      <td>9__NEWLINE__</td>\n      <td>19.2__NEWLINE__</td>\n    </tr>\n  </tbody>\n</table>\n</div>"
     },
     "execution_count": 266,
     "metadata": {},
     "output_type": "execute_result"
    }
   ],
   "source": [
    "data"
   ],
   "metadata": {
    "collapsed": false,
    "pycharm": {
     "name": "#%%\n"
    }
   }
  },
  {
   "cell_type": "code",
   "execution_count": null,
   "outputs": [],
   "source": [
    "from rpy2.robjects import r\n",
    "from runr.convert import rpy2_to_pandas\n",
    "import pandas as pd\n",
    "script_result = r(\"mtcars[1:10,1:1]\")\n",
    "data = pd.DataFrame(rpy2_to_pandas(script_result))\n",
    "data.insert(0, 'Index', data.index)\n",
    "names_col = data.columns[:].tolist()\n",
    "num_col = len(data.columns)\n",
    "num_row = len(data)\n",
    "\n",
    "if data.columns.values[1] == 0:\n",
    "    for x in names_col:\n",
    "        col = 1\n",
    "        data.columns.values[col] = \"Column\" + str(col)\n",
    "        col =+ 1\n",
    "\n",
    "names_col = data.columns[:].tolist()\n",
    "\n",
    "for x in data:\n",
    "    data[x] = data[x].astype(str)\n",
    "for x in range(num_row):\n",
    "    data.iloc[0:num_row, x:(x + 1)] = data.iloc[0:num_row, x:(x + 1)] + '__NEWLINE__'\n",
    "for x in range(num_col):\n",
    "    names_col[x] = names_col[x] + '__NEWLINE__'\n",
    "data.columns = names_col\n",
    "\n",
    "for x in names_col:\n",
    "    data[x] = data[x].str.strip()\n",
    "for x in names_col:\n",
    "    data[x] = data[x].str.lstrip()\n",
    "\n",
    "data_string = data.to_string(index=True)\n",
    "string_table = data_string\n",
    "\n",
    "thead = 0\n",
    "html_table = f\"<table class=\\\"table table-striped table-hover\\\">\"\n",
    "for line in string_table.splitlines():\n",
    "    if thead == 0:\n",
    "        html_table += f\"<thead>\"\n",
    "        for n in line.split(\"__NEWLINE__\"):\n",
    "            html_table += f\"<th scope=\\\"col\\\">{n}</th>\"\n",
    "    else:\n",
    "        pass\n",
    "    item_index = 0\n",
    "    for n in line.split(\"__NEWLINE__\"):\n",
    "        if thead != 0:\n",
    "            if item_index == 0:\n",
    "                html_table += f\"<th scope = \\\"row\\\">{n}</td>\"\n",
    "            else:\n",
    "                html_table += f\"<td>{n}</td>\"\n",
    "        item_index += 1\n",
    "    if thead == 0:\n",
    "        html_table += f\"</thead>\"\n",
    "    else:\n",
    "        pass\n",
    "    html_table += \"<tr>\"\n",
    "    thead += 1\n",
    "html_table += \"</table>\""
   ],
   "metadata": {
    "collapsed": false,
    "pycharm": {
     "name": "#%%\n"
    }
   }
  },
  {
   "cell_type": "code",
   "execution_count": 251,
   "outputs": [
    {
     "data": {
      "text/plain": "'<table class=\"table table-striped table-hover\"><thead><th scope=\"col\">Index</th><th scope=\"col\"> Column1</th><th scope=\"col\"></th></thead><tr><th scope = \"row\">    0</td><td>    21.0</td><td></td><tr><th scope = \"row\">    1</td><td>    21.0</td><td></td><tr><th scope = \"row\">    2</td><td>    22.8</td><td></td><tr><th scope = \"row\">    3</td><td>    21.4</td><td></td><tr><th scope = \"row\">    4</td><td>    18.7</td><td></td><tr><th scope = \"row\">    5</td><td>    18.1</td><td></td><tr><th scope = \"row\">    6</td><td>    14.3</td><td></td><tr><th scope = \"row\">    7</td><td>    24.4</td><td></td><tr><th scope = \"row\">    8</td><td>    22.8</td><td></td><tr><th scope = \"row\">    9</td><td>    19.2</td><td></td><tr></table>'"
     },
     "execution_count": 251,
     "metadata": {},
     "output_type": "execute_result"
    }
   ],
   "source": [
    "html_table"
   ],
   "metadata": {
    "collapsed": false,
    "pycharm": {
     "name": "#%%\n"
    }
   }
  }
 ],
 "metadata": {
  "kernelspec": {
   "display_name": "Python 3",
   "language": "python",
   "name": "python3"
  },
  "language_info": {
   "codemirror_mode": {
    "name": "ipython",
    "version": 2
   },
   "file_extension": ".py",
   "mimetype": "text/x-python",
   "name": "python",
   "nbconvert_exporter": "python",
   "pygments_lexer": "ipython2",
   "version": "2.7.6"
  }
 },
 "nbformat": 4,
 "nbformat_minor": 0
}